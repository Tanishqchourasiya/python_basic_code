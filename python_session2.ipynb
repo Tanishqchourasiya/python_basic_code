{
 "cells": [
  {
   "cell_type": "code",
   "execution_count": 1,
   "id": "a5f9ad19",
   "metadata": {},
   "outputs": [
    {
     "name": "stdout",
     "output_type": "stream",
     "text": [
      "1.21.5\n"
     ]
    }
   ],
   "source": [
    "import numpy as np\n",
    "print(np.__version__)"
   ]
  },
  {
   "cell_type": "code",
   "execution_count": 2,
   "id": "fae63bcd",
   "metadata": {},
   "outputs": [
    {
     "data": {
      "text/plain": [
       "0.50782189702332"
      ]
     },
     "execution_count": 2,
     "metadata": {},
     "output_type": "execute_result"
    }
   ],
   "source": [
    "import numpy as np\n",
    "from numpy.random import random\n",
    "random()\n"
   ]
  },
  {
   "cell_type": "code",
   "execution_count": 7,
   "id": "8346fd22",
   "metadata": {},
   "outputs": [
    {
     "name": "stdout",
     "output_type": "stream",
     "text": [
      "0.6721556754514663\n",
      "None\n"
     ]
    }
   ],
   "source": [
    "import numpy as np\n",
    "from numpy.random import random\n",
    "x=random()\n",
    "answer= None              #used to reset ANSWER  by None after every iteration\n",
    "if x> 0.8 :\n",
    "    answer = \"Greater than 0.8\"\n",
    "print(x)\n",
    "print(answer)"
   ]
  },
  {
   "cell_type": "code",
   "execution_count": 8,
   "id": "044a90db",
   "metadata": {},
   "outputs": [
    {
     "name": "stdout",
     "output_type": "stream",
     "text": [
      "0.9988097780143212\n",
      "greater than 0.5\n"
     ]
    }
   ],
   "source": [
    "#if else\n",
    "answer = None\n",
    "x= random()\n",
    "if x> 0.5 :\n",
    "    answer=\"greater than 0.5\"\n",
    "else:\n",
    "    answer=\"less than 0.5\"\n",
    "print(x)\n",
    "print(answer)"
   ]
  },
  {
   "cell_type": "code",
   "execution_count": 12,
   "id": "ab83bcef",
   "metadata": {},
   "outputs": [
    {
     "name": "stdout",
     "output_type": "stream",
     "text": [
      "0.38508806512267846\n",
      "greater than 0.4 but less than 0.5\n"
     ]
    }
   ],
   "source": [
    "answer = None\n",
    "x= random()\n",
    "if x> 0.5 :\n",
    "    answer=\"greater than 0.5\"\n",
    "else:\n",
    "    if x> 0.4 :\n",
    "        answer=\"less than 0.4\"\n",
    "    else:\n",
    "        answer=\"greater than 0.4 but less than 0.5\"\n",
    "print(x)\n",
    "print(answer)"
   ]
  },
  {
   "cell_type": "code",
   "execution_count": 15,
   "id": "e634a379",
   "metadata": {},
   "outputs": [
    {
     "name": "stdout",
     "output_type": "stream",
     "text": [
      "enter no. from where you want to print : 20\n",
      "20\n",
      "19\n",
      "18\n",
      "17\n",
      "16\n",
      "15\n",
      "14\n",
      "13\n",
      "12\n",
      "11\n",
      "10\n",
      "9\n",
      "8\n",
      "7\n",
      "6\n",
      "5\n",
      "4\n",
      "3\n",
      "2\n",
      "1\n"
     ]
    }
   ],
   "source": [
    "# write a program for n natural number in descending order\n",
    "n = int(input(\"enter no. from where you want to print : \"))\n",
    "while n != 0:\n",
    "    print(n)\n",
    "    n=n-1"
   ]
  },
  {
   "cell_type": "code",
   "execution_count": 19,
   "id": "cfb9deaf",
   "metadata": {},
   "outputs": [
    {
     "name": "stdout",
     "output_type": "stream",
     "text": [
      "enter no. you want factorial of : 5\n",
      "factorial :  120\n"
     ]
    }
   ],
   "source": [
    "# WAP to find factorial\n",
    "n = int(input(\"enter no. you want factorial of : \"))\n",
    "f=1\n",
    "while n !=1:\n",
    "    f=f*n\n",
    "    n=n-1\n",
    "print(\"factorial : \",f)"
   ]
  },
  {
   "cell_type": "code",
   "execution_count": 5,
   "id": "7c90ebee",
   "metadata": {},
   "outputs": [
    {
     "name": "stdout",
     "output_type": "stream",
     "text": [
      "Enter a number: 07\n",
      "The reversed number is: 7\n"
     ]
    }
   ],
   "source": [
    "n = int(input(\"Enter a number: \"))\n",
    "r=0\n",
    "while n>0:\n",
    "    d=n%10\n",
    "    r=r*10+d\n",
    "    n=n//10\n",
    "print(\"The reversed number is:\",r)"
   ]
  },
  {
   "cell_type": "code",
   "execution_count": 9,
   "id": "322be235",
   "metadata": {},
   "outputs": [
    {
     "name": "stdout",
     "output_type": "stream",
     "text": [
      "hey!!\n",
      "hey!!\n",
      "hey!!\n",
      "hey!!\n",
      "hey!!\n",
      "hey!!\n",
      "hey!!\n",
      "hey!!\n",
      "hey!!\n",
      "hey!!\n",
      "hey!!\n",
      "hey!!\n",
      "hey!!\n",
      "hey!!\n",
      "hey!!\n"
     ]
    }
   ],
   "source": [
    "for i in range (15):\n",
    "    print(\"hey!!\")"
   ]
  },
  {
   "cell_type": "code",
   "execution_count": 10,
   "id": "868d3cc9",
   "metadata": {},
   "outputs": [
    {
     "data": {
      "text/plain": [
       "range(0, 5)"
      ]
     },
     "execution_count": 10,
     "metadata": {},
     "output_type": "execute_result"
    }
   ],
   "source": [
    "range(5)"
   ]
  },
  {
   "cell_type": "code",
   "execution_count": 12,
   "id": "0cf41a7c",
   "metadata": {},
   "outputs": [
    {
     "data": {
      "text/plain": [
       "[0, 1, 2, 3, 4]"
      ]
     },
     "execution_count": 12,
     "metadata": {},
     "output_type": "execute_result"
    }
   ],
   "source": [
    "list(range(5))   #way to create list of five number"
   ]
  },
  {
   "cell_type": "code",
   "execution_count": 13,
   "id": "24f210c6",
   "metadata": {},
   "outputs": [],
   "source": [
    "#list is a type of array more specifically it is a type of vetor or data structure \n",
    "#list can also be called as the type of the order sequence of elements or ordered set of elements,\n",
    "#order starts from zero and ends at 9..(in order programming language like R list is starts from 1)\n",
    "#list is the storage element for data type or used to stare mixed data type and every thng is numerated..."
   ]
  },
  {
   "cell_type": "code",
   "execution_count": 15,
   "id": "54d303d0",
   "metadata": {},
   "outputs": [
    {
     "data": {
      "text/plain": [
       "list"
      ]
     },
     "execution_count": 15,
     "metadata": {},
     "output_type": "execute_result"
    }
   ],
   "source": [
    "myfirstlist=[3,4,5,6,7,8,9]\n",
    "type(myfirstlist)"
   ]
  },
  {
   "cell_type": "code",
   "execution_count": 17,
   "id": "3648bdfd",
   "metadata": {},
   "outputs": [
    {
     "data": {
      "text/plain": [
       "['hy', 'hii', 2, 3, 4, [3, 4, 5, 6, 7, 8, 9]]"
      ]
     },
     "execution_count": 17,
     "metadata": {},
     "output_type": "execute_result"
    }
   ],
   "source": [
    "l2=['hy','hii',2,3,4,myfirstlist]\n",
    "l2"
   ]
  },
  {
   "cell_type": "code",
   "execution_count": 19,
   "id": "c975d5c6",
   "metadata": {},
   "outputs": [
    {
     "data": {
      "text/plain": [
       "[2, 3, 4, 5, 6]"
      ]
     },
     "execution_count": 19,
     "metadata": {},
     "output_type": "execute_result"
    }
   ],
   "source": [
    "y=list(range(2,7))\n",
    "y"
   ]
  },
  {
   "cell_type": "code",
   "execution_count": 23,
   "id": "2a68c086",
   "metadata": {},
   "outputs": [
    {
     "data": {
      "text/plain": [
       "[2, 4, 6, 8, 10, 12, 14, 16, 18]"
      ]
     },
     "execution_count": 23,
     "metadata": {},
     "output_type": "execute_result"
    }
   ],
   "source": [
    "y=list(range(2,19,2)) \n",
    "y"
   ]
  },
  {
   "cell_type": "code",
   "execution_count": 27,
   "id": "682fd273",
   "metadata": {},
   "outputs": [
    {
     "data": {
      "text/plain": [
       "2"
      ]
     },
     "execution_count": 27,
     "metadata": {},
     "output_type": "execute_result"
    }
   ],
   "source": [
    "y[-9]"
   ]
  },
  {
   "cell_type": "code",
   "execution_count": 28,
   "id": "49b78179",
   "metadata": {},
   "outputs": [
    {
     "data": {
      "text/plain": [
       "[18, 16, 14, 12, 10, 8, 6, 4, 2]"
      ]
     },
     "execution_count": 28,
     "metadata": {},
     "output_type": "execute_result"
    }
   ],
   "source": [
    "y[::-1]"
   ]
  },
  {
   "cell_type": "code",
   "execution_count": 31,
   "id": "e61bb216",
   "metadata": {},
   "outputs": [
    {
     "data": {
      "text/plain": [
       "[2, 4, 6, 8, 10, 12, 14, 23, 18]"
      ]
     },
     "execution_count": 31,
     "metadata": {},
     "output_type": "execute_result"
    }
   ],
   "source": [
    "y[-2]=23\n",
    "y"
   ]
  },
  {
   "cell_type": "code",
   "execution_count": 32,
   "id": "1243f202",
   "metadata": {},
   "outputs": [
    {
     "data": {
      "text/plain": [
       "[6, 8, 10, 12, 14, 23, 18]"
      ]
     },
     "execution_count": 32,
     "metadata": {},
     "output_type": "execute_result"
    }
   ],
   "source": [
    "y[2:9]"
   ]
  },
  {
   "cell_type": "code",
   "execution_count": 33,
   "id": "1d21fdfe",
   "metadata": {},
   "outputs": [
    {
     "data": {
      "text/plain": [
       "[4, 8, 12, 23]"
      ]
     },
     "execution_count": 33,
     "metadata": {},
     "output_type": "execute_result"
    }
   ],
   "source": [
    "y[1:9:2]"
   ]
  },
  {
   "cell_type": "code",
   "execution_count": 4,
   "id": "3a44a052",
   "metadata": {},
   "outputs": [
    {
     "name": "stdout",
     "output_type": "stream",
     "text": [
      "Enter a number: 09\n",
      "90"
     ]
    }
   ],
   "source": [
    "x = input(\"Enter a number: \")\n",
    "l = len(x)\n",
    "for i in range(l-1,-1,-1):\n",
    "    print(x[i], end='')"
   ]
  },
  {
   "cell_type": "code",
   "execution_count": null,
   "id": "63d77b57",
   "metadata": {},
   "outputs": [],
   "source": []
  }
 ],
 "metadata": {
  "kernelspec": {
   "display_name": "Python 3 (ipykernel)",
   "language": "python",
   "name": "python3"
  },
  "language_info": {
   "codemirror_mode": {
    "name": "ipython",
    "version": 3
   },
   "file_extension": ".py",
   "mimetype": "text/x-python",
   "name": "python",
   "nbconvert_exporter": "python",
   "pygments_lexer": "ipython3",
   "version": "3.9.12"
  }
 },
 "nbformat": 4,
 "nbformat_minor": 5
}
